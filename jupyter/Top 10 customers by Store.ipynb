{
 "cells": [
  {
   "cell_type": "code",
   "execution_count": 19,
   "metadata": {
    "collapsed": true
   },
   "outputs": [],
   "source": [
    "val r = sc.cassandraTable(\"retail\",\"receipts_by_credit_card\")"
   ]
  },
  {
   "cell_type": "code",
   "execution_count": 20,
   "metadata": {
    "collapsed": false
   },
   "outputs": [
    {
     "data": {
      "text/plain": [
       "com.datastax.spark.connector.CassandraRow = CassandraRow{credit_card_number: 346314966079541, receipt_timestamp: 2015-02-01 21:39:14+0000, receipt_id: 1444719922743, credit_card_type: American Express, customer: {first_name: Alice, last_name: Briggs, addr1: 647 Clarence Drv, city: Lulaton, state: IN, zip: 68971}, receipt_total: 1249.8700000000001, store_id: 46}"
      ]
     },
     "execution_count": 20,
     "metadata": {},
     "output_type": "execute_result"
    }
   ],
   "source": [
    "r.first"
   ]
  },
  {
   "cell_type": "code",
   "execution_count": 21,
   "metadata": {
    "collapsed": true
   },
   "outputs": [],
   "source": [
    "case class Cust(first_name: String, last_name: String, zip:String)"
   ]
  },
  {
   "cell_type": "code",
   "execution_count": 22,
   "metadata": {
    "collapsed": false
   },
   "outputs": [],
   "source": [
    "def udt2Cust(cust:UDTValue) = Cust(cust.getString(\"first_name\"), cust.getString(\"last_name\"), cust.getString(\"zip\"))"
   ]
  },
  {
   "cell_type": "code",
   "execution_count": 29,
   "metadata": {
    "collapsed": false
   },
   "outputs": [],
   "source": [
    "val mapped = r.map( row =>  ( (row.getInt(\"store_id\"), row.getUDTValue(\"customer\")), row.getDecimal(\"receipt_total\") ) )"
   ]
  },
  {
   "cell_type": "code",
   "execution_count": 28,
   "metadata": {
    "collapsed": false
   },
   "outputs": [
    {
     "name": "stdout",
     "output_type": "stream",
     "text": [
      "((46,{first_name: Alice, last_name: Briggs, addr1: 647 Clarence Drv, city: Lulaton, state: IN, zip: 68971}),1249.8700000000001)\n",
      "((374,{first_name: Corey, last_name: Black, addr1: 432 Aspen Road, city: Cogdell, state: CA, zip: 45482}),1589.8500000000001)\n",
      "((350,{first_name: Katherine, last_name: Puckett, addr1: 430 Narrows Trail, city: Mayday, state: AZ, zip: 65623}),119.94999999999999)\n",
      "((169,{first_name: Karen, last_name: Vazquez, addr1: 1049 Scholl Park, city: Cave Spring, state: WY, zip: 39835}),359.96)\n",
      "((322,{first_name: Kathryn, last_name: Fuller, addr1: 930 Marne Street, city: Surrency, state: OK, zip: 22505}),1169.8400000000001)\n",
      "((139,{first_name: Tasha, last_name: Tyler, addr1: 509 Prame Terrace, city: Axson, state: KY, zip: 52582}),989.77)\n",
      "((106,{first_name: Tim, last_name: Joyner, addr1: 1477 Eastview Circle, city: Homer, state: MD, zip: 38177}),399.95)\n",
      "((247,{first_name: Brooklyn, last_name: Gilliam, addr1: 443 Thompson Drv, city: Sunbury, state: HI, zip: 38177}),1069.76)\n",
      "((316,{first_name: Christina, last_name: Randall, addr1: 1424 Burbank Path, city: Brunswick, state: OH, zip: 37054}),299.96999999999997)\n",
      "((286,{first_name: George, last_name: Jacobson, addr1: 1599 Hanover Ave, city: Hawkinsville, state: AL, zip: 22297}),679.83)\n"
     ]
    }
   ],
   "source": [
    "mapped.collect take 10 foreach println"
   ]
  },
  {
   "cell_type": "code",
   "execution_count": 33,
   "metadata": {
    "collapsed": false
   },
   "outputs": [],
   "source": [
    "val storeCustAmt = mapped.reduceByKey(_+_)"
   ]
  },
  {
   "cell_type": "code",
   "execution_count": 34,
   "metadata": {
    "collapsed": false
   },
   "outputs": [
    {
     "name": "stdout",
     "output_type": "stream",
     "text": [
      "((88,{first_name: Paige, last_name: Chaney, addr1: 431 Home St, city: Sessoms, state: NC, zip: 21690}),919.86)\n",
      "((329,{first_name: Alicia, last_name: Adkins, addr1: 1420 Blaine Road, city: Thunderbolt, state: ME, zip: 55679}),49.99)\n",
      "((251,{first_name: Abigail, last_name: Charles, addr1: 750 Stacy Terrace, city: Barwick, state: UT, zip: 22241}),1039.8799999999999)\n",
      "((217,{first_name: Christine, last_name: Garza, addr1: 1661 Winfield Ave, city: East Point, state: ID, zip: 64403}),329.95)\n",
      "((102,{first_name: Katelyn, last_name: Kent, addr1: 1007 Hickam Trail, city: Poulan, state: CO, zip: 45579}),559.9)\n",
      "((283,{first_name: Vicky, last_name: Morales, addr1: 1452 Dana Trail, city: Springfield, state: WA, zip: 63003}),1939.71)\n",
      "((362,{first_name: Linda, last_name: Underwood, addr1: 957 Middleton Park, city: Kingsland, state: UT, zip: 65870}),1189.8600000000001)\n",
      "((245,{first_name: Jacob, last_name: George, addr1: 1174 Sharonwood Run, city: Montgomery, state: NV, zip: 09480}),1359.8)\n",
      "((320,{first_name: Trevor, last_name: Vasquez, addr1: 1203 Raintree Circle, city: Remerton, state: IL, zip: 85433}),479.93999999999994)\n",
      "((381,{first_name: Annette, last_name: McIntosh, addr1: 1644 Eddy Boulevard, city: Georgetown, state: UT, zip: 86473}),739.9300000000001)\n"
     ]
    }
   ],
   "source": [
    "storeCustAmt.collect take 10 foreach println"
   ]
  },
  {
   "cell_type": "code",
   "execution_count": 38,
   "metadata": {
    "collapsed": false
   },
   "outputs": [],
   "source": [
    "val storeCustAmt2 = storeCustAmt.map{ case ((store, cust ), amt) => (store, (amt,cust)) }"
   ]
  },
  {
   "cell_type": "code",
   "execution_count": 36,
   "metadata": {
    "collapsed": false
   },
   "outputs": [
    {
     "name": "stdout",
     "output_type": "stream",
     "text": [
      "(88,(919.86,{first_name: Paige, last_name: Chaney, addr1: 431 Home St, city: Sessoms, state: NC, zip: 21690}))\n",
      "(329,(49.99,{first_name: Alicia, last_name: Adkins, addr1: 1420 Blaine Road, city: Thunderbolt, state: ME, zip: 55679}))\n",
      "(251,(1039.8799999999999,{first_name: Abigail, last_name: Charles, addr1: 750 Stacy Terrace, city: Barwick, state: UT, zip: 22241}))\n",
      "(217,(329.95,{first_name: Christine, last_name: Garza, addr1: 1661 Winfield Ave, city: East Point, state: ID, zip: 64403}))\n",
      "(102,(559.9,{first_name: Katelyn, last_name: Kent, addr1: 1007 Hickam Trail, city: Poulan, state: CO, zip: 45579}))\n",
      "(283,(1939.71,{first_name: Vicky, last_name: Morales, addr1: 1452 Dana Trail, city: Springfield, state: WA, zip: 63003}))\n",
      "(362,(1189.8600000000001,{first_name: Linda, last_name: Underwood, addr1: 957 Middleton Park, city: Kingsland, state: UT, zip: 65870}))\n",
      "(245,(1359.8,{first_name: Jacob, last_name: George, addr1: 1174 Sharonwood Run, city: Montgomery, state: NV, zip: 09480}))\n",
      "(320,(479.93999999999994,{first_name: Trevor, last_name: Vasquez, addr1: 1203 Raintree Circle, city: Remerton, state: IL, zip: 85433}))\n",
      "(381,(739.9300000000001,{first_name: Annette, last_name: McIntosh, addr1: 1644 Eddy Boulevard, city: Georgetown, state: UT, zip: 86473}))\n"
     ]
    }
   ],
   "source": [
    "storeCustAmt2.collect take 10 foreach println"
   ]
  },
  {
   "cell_type": "code",
   "execution_count": 46,
   "metadata": {
    "collapsed": false
   },
   "outputs": [],
   "source": [
    "val top10customersperstore = storeCustAmt2.groupByKey.flatMap{ case (store, custAmtList) => custAmtList.toArray.sortBy( ca => -ca._1 ).take(10).map(x => (store, x))}"
   ]
  },
  {
   "cell_type": "code",
   "execution_count": 50,
   "metadata": {
    "collapsed": false
   },
   "outputs": [
    {
     "name": "stdout",
     "output_type": "stream",
     "text": [
      "(68,(2769.73,{first_name: Jake, last_name: Russo, addr1: 1564 Browns Blvd, city: Nankin, state: ID, zip: 45259}))\n",
      "(68,(2189.72,{first_name: Kylie, last_name: Potter, addr1: 1585 Gantz Terrace, city: Wray, state: NC, zip: 10205}))\n",
      "(68,(1979.78,{first_name: Mason, last_name: Maldonado, addr1: 787 Stout Ln, city: Appling, state: KS, zip: 86855}))\n",
      "(68,(1889.82,{first_name: Randy, last_name: Boone, addr1: 1404 Daisy Way, city: Helena, state: WV, zip: 15978}))\n",
      "(68,(1779.77,{first_name: Steven, last_name: Hines, addr1: 1572 Lenox Trail, city: Harrietts Bluff, state: CO, zip: 45274}))\n",
      "(68,(1749.76,{first_name: Kim, last_name: Bass, addr1: 567 Gray Road, city: Danielsville, state: CT, zip: 78262}))\n",
      "(68,(1709.81,{first_name: Arthur, last_name: Meadows, addr1: 1482 Limestone Rd, city: Dixie, state: OK, zip: 76765}))\n",
      "(68,(1619.79,{first_name: Scott, last_name: Marsh, addr1: 1717 Liberty Road, city: Soperton, state: MN, zip: 26848}))\n",
      "(68,(1599.84,{first_name: Cindy, last_name: Bartlett, addr1: 1253 Clover Street, city: Talbotton, state: CT, zip: 66882}))\n",
      "(68,(1579.8400000000001,{first_name: Peggy, last_name: Shields, addr1: 1124 Souder Street, city: Morrow, state: AL, zip: 93413}))\n",
      "(386,(2619.6499999999996,{first_name: Vernon, last_name: Shannon, addr1: 971 Barnes Street, city: Thomaston, state: WI, zip: 76180}))\n",
      "(386,(2019.8,{first_name: Doug, last_name: Whitfield, addr1: 1424 Norwich Court, city: Nelson, state: MA, zip: 15428}))\n",
      "(386,(1959.77,{first_name: Virginia, last_name: Baird, addr1: 1537 Schneider Ridge, city: Nashville, state: MN, zip: 80715}))\n",
      "(386,(1789.76,{first_name: Joanne, last_name: Morton, addr1: 1414 Greenville Blvd, city: Edison, state: ID, zip: 37971}))\n",
      "(386,(1709.75,{first_name: Erica, last_name: Jacobson, addr1: 1389 Lawndale Park, city: Temple, state: MA, zip: 21023}))\n",
      "(386,(1619.82,{first_name: Alissa, last_name: Roberson, addr1: 643 Mcfarland Park, city: Lagrange, state: LA, zip: 56234}))\n",
      "(386,(1349.83,{first_name: Paul, last_name: Clayton, addr1: 985 Martin Station, city: Fort Valley, state: MT, zip: 25830}))\n",
      "(386,(1259.84,{first_name: Carmen, last_name: Soto, addr1: 1732 Stonecreek Lane, city: Brookfield, state: ME, zip: 53818}))\n",
      "(386,(1249.87,{first_name: Willie, last_name: Hanson, addr1: 523 Mackenzie Run, city: Brooks, state: MO, zip: 03508}))\n",
      "(386,(1209.79,{first_name: Tessa, last_name: Griffith, addr1: 1781 Russell Crescent, city: Loganville, state: AL, zip: 62421}))\n"
     ]
    }
   ],
   "source": [
    "top10customersperstore.collect take 20 foreach println\n"
   ]
  },
  {
   "cell_type": "code",
   "execution_count": 57,
   "metadata": {
    "collapsed": false
   },
   "outputs": [
    {
     "name": "stdout",
     "output_type": "stream",
     "text": [
      "(68,2769.73,{first_name: Jake, last_name: Russo, addr1: 1564 Browns Blvd, city: Nankin, state: ID, zip: 45259})\n",
      "(68,2189.72,{first_name: Kylie, last_name: Potter, addr1: 1585 Gantz Terrace, city: Wray, state: NC, zip: 10205})\n",
      "(68,1979.78,{first_name: Mason, last_name: Maldonado, addr1: 787 Stout Ln, city: Appling, state: KS, zip: 86855})\n",
      "(68,1889.82,{first_name: Randy, last_name: Boone, addr1: 1404 Daisy Way, city: Helena, state: WV, zip: 15978})\n",
      "(68,1779.77,{first_name: Steven, last_name: Hines, addr1: 1572 Lenox Trail, city: Harrietts Bluff, state: CO, zip: 45274})\n",
      "(68,1749.76,{first_name: Kim, last_name: Bass, addr1: 567 Gray Road, city: Danielsville, state: CT, zip: 78262})\n",
      "(68,1709.81,{first_name: Arthur, last_name: Meadows, addr1: 1482 Limestone Rd, city: Dixie, state: OK, zip: 76765})\n",
      "(68,1619.79,{first_name: Scott, last_name: Marsh, addr1: 1717 Liberty Road, city: Soperton, state: MN, zip: 26848})\n",
      "(68,1599.84,{first_name: Cindy, last_name: Bartlett, addr1: 1253 Clover Street, city: Talbotton, state: CT, zip: 66882})\n",
      "(68,1579.8400000000001,{first_name: Peggy, last_name: Shields, addr1: 1124 Souder Street, city: Morrow, state: AL, zip: 93413})\n"
     ]
    }
   ],
   "source": [
    "val top10customersperstore_flat= top10customersperstore.map{ case (store,(amt,cust) ) => (store, amt, cust) }\n",
    "top10customersperstore_flat.take(10).foreach(println)\n"
   ]
  },
  {
   "cell_type": "code",
   "execution_count": 58,
   "metadata": {
    "collapsed": false
   },
   "outputs": [],
   "source": [
    "top10customersperstore_flat.saveToCassandra(\"retail\",\"top_customers_by_store\")"
   ]
  }
 ],
 "metadata": {
  "kernelspec": {
   "display_name": "Spark-Cassandra (Scala 2.10.4)",
   "language": "scala",
   "name": "spark"
  },
  "language_info": {
   "name": "scala"
  }
 },
 "nbformat": 4,
 "nbformat_minor": 0
}
