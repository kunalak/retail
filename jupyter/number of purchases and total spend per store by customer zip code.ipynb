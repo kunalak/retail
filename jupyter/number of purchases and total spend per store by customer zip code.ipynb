{
 "cells": [
  {
   "cell_type": "markdown",
   "metadata": {},
   "source": [
    "### Import Stuff"
   ]
  },
  {
   "cell_type": "code",
   "execution_count": 1,
   "metadata": {
    "collapsed": false
   },
   "outputs": [],
   "source": [
    "from pyspark.sql import SQLContext\n",
    "from pyspark.sql import functions as F\n",
    "from pyspark.sql.functions import udf\n",
    "import pyspark.sql.types as T"
   ]
  },
  {
   "cell_type": "markdown",
   "metadata": {},
   "source": [
    "### Create SQL Context"
   ]
  },
  {
   "cell_type": "code",
   "execution_count": 2,
   "metadata": {
    "collapsed": true
   },
   "outputs": [],
   "source": [
    "sqlContext = SQLContext(sc)"
   ]
  },
  {
   "cell_type": "markdown",
   "metadata": {},
   "source": [
    "### Create Dataframes on Cassandra tables"
   ]
  },
  {
   "cell_type": "code",
   "execution_count": 3,
   "metadata": {
    "collapsed": true
   },
   "outputs": [],
   "source": [
    "stores_df = sqlContext.read\\\n",
    "    .format(\"org.apache.spark.sql.cassandra\")\\\n",
    "    .options(keyspace=\"retail\", table=\"stores\")\\\n",
    "    .load()"
   ]
  },
  {
   "cell_type": "code",
   "execution_count": 4,
   "metadata": {
    "collapsed": false
   },
   "outputs": [],
   "source": [
    "receipts_by_store_date_df = sqlContext.read\\\n",
    "    .format(\"org.apache.spark.sql.cassandra\")\\\n",
    "    .options(keyspace=\"retail\", table=\"receipts_by_store_date\")\\\n",
    "    .load()"
   ]
  },
  {
   "cell_type": "markdown",
   "metadata": {},
   "source": [
    "### Create UDFs - These may not perform well, but are run only on the final results"
   ]
  },
  {
   "cell_type": "code",
   "execution_count": 5,
   "metadata": {
    "collapsed": false
   },
   "outputs": [],
   "source": [
    "concat = udf(lambda s1, s2: s1 + s2, T.StringType())"
   ]
  },
  {
   "cell_type": "markdown",
   "metadata": {},
   "source": [
    "### Compute the sales by state\n",
    "1. join receipts_by_store_date to store\n",
    "2. group by state\n",
    "3. sum by receipt_total\n",
    "4. do a select to add the dummy column, rename columns, compute the region and round the totals"
   ]
  },
  {
   "cell_type": "code",
   "execution_count": 6,
   "metadata": {
    "collapsed": false
   },
   "outputs": [],
   "source": [
    "sales_by_state_df = receipts_by_store_date_df\\\n",
    "   .join(stores_df, stores_df.store_id == receipts_by_store_date_df.store_id )\\\n",
    "   .groupBy(\"state\")\\\n",
    "   .sum(\"receipt_total\")\\\n",
    "   .select(F.lit(\"dummy\").alias(\"dummy\"), \"state\", concat(F.lit(\"US-\"),\"state\").alias(\"region\"), F.col(\"SUM(receipt_total)\").cast(\"Decimal(10,2)\").alias(\"receipts_total\"))"
   ]
  },
  {
   "cell_type": "code",
   "execution_count": 7,
   "metadata": {
    "collapsed": false
   },
   "outputs": [],
   "source": [
    "sales_per_store_by_zip_code = receipts_by_store_date_df\\\n",
    "   .groupBy(\"state\")\\\n",
    "   .sum(\"receipt_total\")\\\n",
    "   .select(F.lit(\"dummy\").alias(\"dummy\"), \"state\", concat(F.lit(\"US-\"),\"state\").alias(\"region\"), F.col(\"SUM(receipt_total)\").cast(\"Decimal(10,2)\").alias(\"receipts_total\"))"
   ]
  },
  {
   "cell_type": "markdown",
   "metadata": {},
   "source": [
    "### Save it"
   ]
  },
  {
   "cell_type": "code",
   "execution_count": 8,
   "metadata": {
    "collapsed": false
   },
   "outputs": [
    {
     "ename": "Py4JJavaError",
     "evalue": "An error occurred while calling o155.save.\n: java.lang.UnsupportedOperationException: 'Writing to a non-empty Cassandra Table is not allowed.'\n\tat org.apache.spark.sql.cassandra.DefaultSource.createRelation(DefaultSource.scala:93)\n\tat org.apache.spark.sql.sources.ResolvedDataSource$.apply(ddl.scala:309)\n\tat org.apache.spark.sql.DataFrameWriter.save(DataFrameWriter.scala:144)\n\tat sun.reflect.NativeMethodAccessorImpl.invoke0(Native Method)\n\tat sun.reflect.NativeMethodAccessorImpl.invoke(NativeMethodAccessorImpl.java:62)\n\tat sun.reflect.DelegatingMethodAccessorImpl.invoke(DelegatingMethodAccessorImpl.java:43)\n\tat java.lang.reflect.Method.invoke(Method.java:497)\n\tat py4j.reflection.MethodInvoker.invoke(MethodInvoker.java:231)\n\tat py4j.reflection.ReflectionEngine.invoke(ReflectionEngine.java:379)\n\tat py4j.Gateway.invoke(Gateway.java:259)\n\tat py4j.commands.AbstractCommand.invokeMethod(AbstractCommand.java:132)\n\tat py4j.commands.CallCommand.execute(CallCommand.java:79)\n\tat py4j.GatewayConnection.run(GatewayConnection.java:207)\n\tat java.lang.Thread.run(Thread.java:745)\n",
     "output_type": "error",
     "traceback": [
      "\u001b[1;31m---------------------------------------------------------------------------\u001b[0m",
      "\u001b[1;31mPy4JJavaError\u001b[0m                             Traceback (most recent call last)",
      "\u001b[1;32m<ipython-input-8-f2f5dd26419f>\u001b[0m in \u001b[0;36m<module>\u001b[1;34m()\u001b[0m\n\u001b[1;32m----> 1\u001b[1;33m \u001b[0msales_by_state_df\u001b[0m\u001b[1;33m.\u001b[0m\u001b[0mwrite\u001b[0m      \u001b[1;33m.\u001b[0m\u001b[0mformat\u001b[0m\u001b[1;33m(\u001b[0m\u001b[1;34m\"org.apache.spark.sql.cassandra\"\u001b[0m\u001b[1;33m)\u001b[0m      \u001b[1;33m.\u001b[0m\u001b[0moptions\u001b[0m\u001b[1;33m(\u001b[0m\u001b[0mkeyspace\u001b[0m \u001b[1;33m=\u001b[0m \u001b[1;34m\"retail\"\u001b[0m\u001b[1;33m,\u001b[0m \u001b[0mtable\u001b[0m \u001b[1;33m=\u001b[0m \u001b[1;34m\"sales_by_state\"\u001b[0m\u001b[1;33m)\u001b[0m      \u001b[1;33m.\u001b[0m\u001b[0msave\u001b[0m\u001b[1;33m(\u001b[0m\u001b[1;33m)\u001b[0m\u001b[1;33m\u001b[0m\u001b[0m\n\u001b[0m",
      "\u001b[1;32m/usr/share/dse/spark/python/pyspark/sql/readwriter.pyc\u001b[0m in \u001b[0;36msave\u001b[1;34m(self, path, format, mode, partitionBy, **options)\u001b[0m\n\u001b[0;32m    300\u001b[0m             \u001b[0mself\u001b[0m\u001b[1;33m.\u001b[0m\u001b[0mformat\u001b[0m\u001b[1;33m(\u001b[0m\u001b[0mformat\u001b[0m\u001b[1;33m)\u001b[0m\u001b[1;33m\u001b[0m\u001b[0m\n\u001b[0;32m    301\u001b[0m         \u001b[1;32mif\u001b[0m \u001b[0mpath\u001b[0m \u001b[1;32mis\u001b[0m \u001b[0mNone\u001b[0m\u001b[1;33m:\u001b[0m\u001b[1;33m\u001b[0m\u001b[0m\n\u001b[1;32m--> 302\u001b[1;33m             \u001b[0mself\u001b[0m\u001b[1;33m.\u001b[0m\u001b[0m_jwrite\u001b[0m\u001b[1;33m.\u001b[0m\u001b[0msave\u001b[0m\u001b[1;33m(\u001b[0m\u001b[1;33m)\u001b[0m\u001b[1;33m\u001b[0m\u001b[0m\n\u001b[0m\u001b[0;32m    303\u001b[0m         \u001b[1;32melse\u001b[0m\u001b[1;33m:\u001b[0m\u001b[1;33m\u001b[0m\u001b[0m\n\u001b[0;32m    304\u001b[0m             \u001b[0mself\u001b[0m\u001b[1;33m.\u001b[0m\u001b[0m_jwrite\u001b[0m\u001b[1;33m.\u001b[0m\u001b[0msave\u001b[0m\u001b[1;33m(\u001b[0m\u001b[0mpath\u001b[0m\u001b[1;33m)\u001b[0m\u001b[1;33m\u001b[0m\u001b[0m\n",
      "\u001b[1;32m/usr/share/dse/spark/python/lib/py4j-0.8.2.1-src.zip/py4j/java_gateway.py\u001b[0m in \u001b[0;36m__call__\u001b[1;34m(self, *args)\u001b[0m\n\u001b[0;32m    536\u001b[0m         \u001b[0manswer\u001b[0m \u001b[1;33m=\u001b[0m \u001b[0mself\u001b[0m\u001b[1;33m.\u001b[0m\u001b[0mgateway_client\u001b[0m\u001b[1;33m.\u001b[0m\u001b[0msend_command\u001b[0m\u001b[1;33m(\u001b[0m\u001b[0mcommand\u001b[0m\u001b[1;33m)\u001b[0m\u001b[1;33m\u001b[0m\u001b[0m\n\u001b[0;32m    537\u001b[0m         return_value = get_return_value(answer, self.gateway_client,\n\u001b[1;32m--> 538\u001b[1;33m                 self.target_id, self.name)\n\u001b[0m\u001b[0;32m    539\u001b[0m \u001b[1;33m\u001b[0m\u001b[0m\n\u001b[0;32m    540\u001b[0m         \u001b[1;32mfor\u001b[0m \u001b[0mtemp_arg\u001b[0m \u001b[1;32min\u001b[0m \u001b[0mtemp_args\u001b[0m\u001b[1;33m:\u001b[0m\u001b[1;33m\u001b[0m\u001b[0m\n",
      "\u001b[1;32m/usr/share/dse/spark/python/lib/py4j-0.8.2.1-src.zip/py4j/protocol.py\u001b[0m in \u001b[0;36mget_return_value\u001b[1;34m(answer, gateway_client, target_id, name)\u001b[0m\n\u001b[0;32m    298\u001b[0m                 raise Py4JJavaError(\n\u001b[0;32m    299\u001b[0m                     \u001b[1;34m'An error occurred while calling {0}{1}{2}.\\n'\u001b[0m\u001b[1;33m.\u001b[0m\u001b[1;33m\u001b[0m\u001b[0m\n\u001b[1;32m--> 300\u001b[1;33m                     format(target_id, '.', name), value)\n\u001b[0m\u001b[0;32m    301\u001b[0m             \u001b[1;32melse\u001b[0m\u001b[1;33m:\u001b[0m\u001b[1;33m\u001b[0m\u001b[0m\n\u001b[0;32m    302\u001b[0m                 raise Py4JError(\n",
      "\u001b[1;31mPy4JJavaError\u001b[0m: An error occurred while calling o155.save.\n: java.lang.UnsupportedOperationException: 'Writing to a non-empty Cassandra Table is not allowed.'\n\tat org.apache.spark.sql.cassandra.DefaultSource.createRelation(DefaultSource.scala:93)\n\tat org.apache.spark.sql.sources.ResolvedDataSource$.apply(ddl.scala:309)\n\tat org.apache.spark.sql.DataFrameWriter.save(DataFrameWriter.scala:144)\n\tat sun.reflect.NativeMethodAccessorImpl.invoke0(Native Method)\n\tat sun.reflect.NativeMethodAccessorImpl.invoke(NativeMethodAccessorImpl.java:62)\n\tat sun.reflect.DelegatingMethodAccessorImpl.invoke(DelegatingMethodAccessorImpl.java:43)\n\tat java.lang.reflect.Method.invoke(Method.java:497)\n\tat py4j.reflection.MethodInvoker.invoke(MethodInvoker.java:231)\n\tat py4j.reflection.ReflectionEngine.invoke(ReflectionEngine.java:379)\n\tat py4j.Gateway.invoke(Gateway.java:259)\n\tat py4j.commands.AbstractCommand.invokeMethod(AbstractCommand.java:132)\n\tat py4j.commands.CallCommand.execute(CallCommand.java:79)\n\tat py4j.GatewayConnection.run(GatewayConnection.java:207)\n\tat java.lang.Thread.run(Thread.java:745)\n"
     ]
    }
   ],
   "source": [
    "sales_by_state_df.write\\\n",
    "      .format(\"org.apache.spark.sql.cassandra\")\\\n",
    "      .options(keyspace = \"retail\", table = \"sales_by_state\")\\\n",
    "      .save()"
   ]
  },
  {
   "cell_type": "code",
   "execution_count": 12,
   "metadata": {
    "collapsed": false
   },
   "outputs": [
    {
     "data": {
      "text/plain": [
       "u'98629'"
      ]
     },
     "execution_count": 12,
     "metadata": {},
     "output_type": "execute_result"
    }
   ],
   "source": [
    "receipts_by_store_date_df.take(1)[0].customer.zip\n"
   ]
  },
  {
   "cell_type": "code",
   "execution_count": 14,
   "metadata": {
    "collapsed": false
   },
   "outputs": [
    {
     "name": "stdout",
     "output_type": "stream",
     "text": [
      "+--------+--------------------+-----------+--------------------+-------------+--------------------+------------------+\n",
      "|store_id|        receipt_date|register_id|   receipt_timestamp|   receipt_id|            customer|     receipt_total|\n",
      "+--------+--------------------+-----------+--------------------+-------------+--------------------+------------------+\n",
      "|     293|2015-02-01 00:00:...|          1|2015-02-01 15:05:...|1444763487387|[Colton,Aguirre,1...|            929.84|\n",
      "|     293|2015-02-01 00:00:...|          1|2015-02-02 00:34:...|1444763324380|[Russ,Roberson,14...|249.91000000000003|\n",
      "|     293|2015-02-01 00:00:...|          3|2015-02-01 19:30:...|1444763602752|[Katherine,Pucket...|           1749.74|\n",
      "|     293|2015-02-01 00:00:...|          7|2015-02-01 18:44:...|1444763496632|[Pat,Burt,815 Laf...|1039.8999999999999|\n",
      "|     293|2015-02-01 00:00:...|          9|2015-02-02 02:24:...|1444763294711|[Jane,Shaw,416 Pi...|           1539.82|\n",
      "|     293|2015-02-01 00:00:...|         10|2015-02-01 21:27:...|1444763431575|[Vincent,Meyers,1...|            709.92|\n",
      "|     293|2015-02-01 00:00:...|         11|2015-02-01 21:50:...|1444763319893|[Jim,Giles,1045 T...| 909.9300000000001|\n",
      "|     293|2015-02-01 00:00:...|         12|2015-02-01 17:30:...|1444763539265|[Shawn,McIntosh,1...|           1179.87|\n",
      "|     293|2015-02-01 00:00:...|         16|2015-02-01 21:26:...|1444763675099|[Tracey,Gibbs,170...|           2239.74|\n",
      "|     293|2015-02-01 00:00:...|         17|2015-02-01 20:55:...|1444763611424|[Louis,McCall,913...|            259.93|\n",
      "|     293|2015-02-01 00:00:...|         18|2015-02-01 17:42:...|1444763386548|[Shawn,Cooley,175...|            999.82|\n",
      "|     293|2015-02-01 00:00:...|         18|2015-02-01 20:57:...|1444763340615|[Kristen,Brady,95...|           1589.73|\n",
      "|     293|2015-02-01 00:00:...|         18|2015-02-01 21:03:...|1444763301823|[Joe,Horn,669 Wor...|           2329.74|\n",
      "|     293|2015-02-01 00:00:...|         19|2015-02-01 20:20:...|1444763504767|[Audrey,Riggs,997...|            219.98|\n",
      "|     293|2015-02-01 00:00:...|         19|2015-02-02 02:39:...|1444763283751|[Dan,Dixon,1607 G...|            399.95|\n",
      "|     293|2015-02-01 00:00:...|         20|2015-02-02 00:01:...|1444763372680|[Dawn,Browning,15...|409.92999999999995|\n",
      "|     293|2015-02-01 00:00:...|         24|2015-02-01 22:41:...|1444763513252|[Dennis,Nixon,171...|1099.8200000000002|\n",
      "|     293|2015-02-01 00:00:...|         25|2015-02-02 00:10:...|1444763405485|[Allen,Acosta,158...|           1539.76|\n",
      "|     293|2015-02-01 00:00:...|         26|2015-02-01 18:53:...|1444763389688|[Gina,Sargent,921...|            139.93|\n",
      "|     293|2015-02-01 00:00:...|         26|2015-02-01 20:44:...|1444763396401|[Jonathan,Valenti...|           1169.88|\n",
      "+--------+--------------------+-----------+--------------------+-------------+--------------------+------------------+\n",
      "\n",
      "root\n",
      " |-- store_id: integer (nullable = true)\n",
      " |-- receipt_date: timestamp (nullable = true)\n",
      " |-- register_id: integer (nullable = true)\n",
      " |-- receipt_timestamp: timestamp (nullable = true)\n",
      " |-- receipt_id: long (nullable = true)\n",
      " |-- customer: struct (nullable = true)\n",
      " |    |-- first_name: string (nullable = true)\n",
      " |    |-- last_name: string (nullable = true)\n",
      " |    |-- addr1: string (nullable = true)\n",
      " |    |-- city: string (nullable = true)\n",
      " |    |-- state: string (nullable = true)\n",
      " |    |-- zip: string (nullable = true)\n",
      " |-- receipt_total: decimal (nullable = true)\n",
      "\n"
     ]
    }
   ],
   "source": [
    "receipts_by_store_date_df.show()\n",
    "receipts_by_store_date_df.printSchema()\n",
    "\n"
   ]
  },
  {
   "cell_type": "code",
   "execution_count": 35,
   "metadata": {
    "collapsed": false
   },
   "outputs": [
    {
     "data": {
      "text/plain": [
       "[((222, u'53128'), (Decimal('3809.63'), 1)),\n",
       " ((311, u'10154'), (Decimal('3499.69'), 1)),\n",
       " ((384, u'84464'), (Decimal('3449.67'), 1)),\n",
       " ((301, u'84578'), (Decimal('3349.7'), 1)),\n",
       " ((296, u'50706'), (Decimal('3339.6499999999996'), 1)),\n",
       " ((206, u'08457'), (Decimal('3299.6800000000003'), 1)),\n",
       " ((141, u'10992'), (Decimal('3269.6499999999996'), 1)),\n",
       " ((56, u'40728'), (Decimal('3229.6699999999996'), 1)),\n",
       " ((383, u'37018'), (Decimal('3219.7200000000003'), 1)),\n",
       " ((362, u'40282'), (Decimal('3179.72'), 1)),\n",
       " ((56, u'56021'), (Decimal('3179.7'), 1)),\n",
       " ((146, u'93926'), (Decimal('3179.6899999999996'), 1)),\n",
       " ((35, u'12600'), (Decimal('3169.71'), 1)),\n",
       " ((152, u'75910'), (Decimal('3169.68'), 1)),\n",
       " ((236, u'11621'), (Decimal('3169.6499999999996'), 1)),\n",
       " ((396, u'78070'), (Decimal('3159.7'), 1)),\n",
       " ((395, u'45326'), (Decimal('3129.7200000000003'), 1)),\n",
       " ((89, u'66903'), (Decimal('3129.7200000000003'), 1)),\n",
       " ((156, u'65295'), (Decimal('3119.69'), 1)),\n",
       " ((86, u'14081'), (Decimal('3109.65'), 1)),\n",
       " ((86, u'54373'), (Decimal('3099.7'), 1)),\n",
       " ((357, u'32350'), (Decimal('3099.69'), 1)),\n",
       " ((292, u'17238'), (Decimal('3089.6899999999996'), 1)),\n",
       " ((292, u'41970'), (Decimal('3089.6800000000003'), 1)),\n",
       " ((72, u'21046'), (Decimal('3089.67'), 1)),\n",
       " ((230, u'18436'), (Decimal('3069.7200000000003'), 1)),\n",
       " ((233, u'18741'), (Decimal('3069.6000000000004'), 1)),\n",
       " ((46, u' 65767 '), (Decimal('3059.66'), 1)),\n",
       " ((169, u'99715'), (Decimal('3049.6800000000003'), 1)),\n",
       " ((175, u'16018'), (Decimal('3049.64'), 1)),\n",
       " ((271, u'37777'), (Decimal('3039.62'), 1)),\n",
       " ((24, u'67772'), (Decimal('3029.7'), 1)),\n",
       " ((43, u'64190'), (Decimal('3029.6800000000003'), 1)),\n",
       " ((356, u'64351'), (Decimal('3029.6400000000003'), 1)),\n",
       " ((381, u'62426'), (Decimal('3029.64'), 1)),\n",
       " ((113, u'04075'), (Decimal('3029.64'), 1)),\n",
       " ((350, u'92149'), (Decimal('3019.61'), 1)),\n",
       " ((114, u'23611'), (Decimal('3009.6699999999996'), 1)),\n",
       " ((98, u'36820'), (Decimal('3009.66'), 1)),\n",
       " ((272, u'66405'), (Decimal('3009.62'), 1)),\n",
       " ((397, u'74215'), (Decimal('2989.72'), 1)),\n",
       " ((130, u'85857'), (Decimal('2989.68'), 1)),\n",
       " ((96, u'05298'), (Decimal('2969.7400000000002'), 1)),\n",
       " ((32, u'74075'), (Decimal('2969.7'), 1)),\n",
       " ((76, u'17267'), (Decimal('2969.6899999999996'), 1)),\n",
       " ((394, u'46537'), (Decimal('2959.67'), 1)),\n",
       " ((343, u'67493'), (Decimal('2959.65'), 1)),\n",
       " ((318, u'48088'), (Decimal('2959.64'), 1)),\n",
       " ((400, u'44397'), (Decimal('2959.6'), 1)),\n",
       " ((156, u'86066'), (Decimal('2949.71'), 1)),\n",
       " ((386, u'11913'), (Decimal('2949.68'), 1)),\n",
       " ((13, u'87229'), (Decimal('2949.64'), 1)),\n",
       " ((393, u'52582'), (Decimal('2949.63'), 1)),\n",
       " ((176, u'75446'), (Decimal('2939.73'), 1)),\n",
       " ((82, u'02577'), (Decimal('2939.6899999999996'), 1)),\n",
       " ((239, u'19078'), (Decimal('2929.73'), 1)),\n",
       " ((73, u'37097'), (Decimal('2919.7'), 1)),\n",
       " ((65, u'38177'), (Decimal('2919.68'), 1)),\n",
       " ((94, u'11152'), (Decimal('2919.67'), 1)),\n",
       " ((218, u'34971'), (Decimal('2909.72'), 1)),\n",
       " ((69, u'30931'), (Decimal('2909.63'), 1)),\n",
       " ((36, u'01022'), (Decimal('2889.72'), 1)),\n",
       " ((374, u'71562'), (Decimal('2889.71'), 1)),\n",
       " ((268, u'81221'), (Decimal('2889.68'), 1)),\n",
       " ((51, u'80913'), (Decimal('2879.73'), 1)),\n",
       " ((315, u'61743'), (Decimal('2879.67'), 1)),\n",
       " ((322, u'58062'), (Decimal('2869.7299999999996'), 1)),\n",
       " ((309, u'64280'), (Decimal('2859.72'), 1)),\n",
       " ((124, u'49582'), (Decimal('2849.68'), 1)),\n",
       " ((152, u'97459'), (Decimal('2849.6299999999997'), 1)),\n",
       " ((82, u'42797'), (Decimal('2839.7099999999996'), 1)),\n",
       " ((328, u'04837'), (Decimal('2839.6899999999996'), 1)),\n",
       " ((343, u'93976'), (Decimal('2829.73'), 1)),\n",
       " ((297, u'55583'), (Decimal('2829.71'), 1)),\n",
       " ((312, u'04409'), (Decimal('2829.6899999999996'), 1)),\n",
       " ((162, u'23691'), (Decimal('2819.75'), 1)),\n",
       " ((343, u'42383'), (Decimal('2819.7299999999996'), 1)),\n",
       " ((134, u'45256'), (Decimal('2819.7200000000003'), 1)),\n",
       " ((286, u'67429'), (Decimal('2819.72'), 1)),\n",
       " ((79, u'69305'), (Decimal('2819.6899999999996'), 1)),\n",
       " ((1, u'76392'), (Decimal('2809.74'), 1)),\n",
       " ((254, u'85957'), (Decimal('2809.72'), 1)),\n",
       " ((134, u'21673'), (Decimal('2809.68'), 1)),\n",
       " ((4, u'23113'), (Decimal('2799.72'), 1)),\n",
       " ((123, u'58167'), (Decimal('2799.7'), 1)),\n",
       " ((55, u'37388'), (Decimal('2799.6899999999996'), 1)),\n",
       " ((244, u'38104'), (Decimal('2799.6899999999996'), 1)),\n",
       " ((106, u'82853'), (Decimal('2799.66'), 1)),\n",
       " ((127, u'68786'), (Decimal('2789.71'), 1)),\n",
       " ((240, u'88392'), (Decimal('2789.7'), 1)),\n",
       " ((269, u'44797'), (Decimal('2789.69'), 1)),\n",
       " ((45, u'46273'), (Decimal('2789.68'), 1)),\n",
       " ((4, u'33981'), (Decimal('2779.7099999999996'), 1)),\n",
       " ((356, u'35284'), (Decimal('2779.6899999999996'), 1)),\n",
       " ((298, u'88883'), (Decimal('2779.6899999999996'), 1)),\n",
       " ((122, u'77795'), (Decimal('2769.7599999999998'), 1)),\n",
       " ((379, u'51253'), (Decimal('2769.75'), 1)),\n",
       " ((270, u'04608'), (Decimal('2769.7200000000003'), 1)),\n",
       " ((246, u'82310'), (Decimal('2769.7200000000003'), 1)),\n",
       " ((386, u'28789'), (Decimal('2769.72'), 1))]"
      ]
     },
     "execution_count": 35,
     "metadata": {},
     "output_type": "execute_result"
    }
   ],
   "source": [
    "receipts_by_store_date_df.rdd.map( lambda (store_id, receipt_date, register_id, receipt_timestamp, receipt_id, customer, receipt_total) : ((store_id, customer[5]),(receipt_total, 1))).reduceByKey(lambda x, y: x+y).sortBy(lambda (x,y): -y[0]).take(100)\n",
    "\n",
    "\n"
   ]
  }
 ],
 "metadata": {
  "kernelspec": {
   "display_name": "Python 2",
   "language": "python",
   "name": "python2"
  },
  "language_info": {
   "codemirror_mode": {
    "name": "ipython",
    "version": 2
   },
   "file_extension": ".py",
   "mimetype": "text/x-python",
   "name": "python",
   "nbconvert_exporter": "python",
   "pygments_lexer": "ipython2",
   "version": "2.7.6"
  }
 },
 "nbformat": 4,
 "nbformat_minor": 0
}
