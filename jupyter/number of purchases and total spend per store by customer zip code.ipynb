{
 "cells": [
  {
   "cell_type": "markdown",
   "metadata": {},
   "source": [
    "### Import Stuff"
   ]
  },
  {
   "cell_type": "code",
   "execution_count": 19,
   "metadata": {
    "collapsed": false
   },
   "outputs": [],
   "source": [
    "from pyspark.sql import SQLContext\n",
    "from pyspark.sql import functions as F\n",
    "from pyspark.sql.functions import udf\n",
    "import pyspark.sql.types as T"
   ]
  },
  {
   "cell_type": "markdown",
   "metadata": {},
   "source": [
    "### Create SQL Context"
   ]
  },
  {
   "cell_type": "code",
   "execution_count": 20,
   "metadata": {
    "collapsed": true
   },
   "outputs": [],
   "source": [
    "sqlContext = SQLContext(sc)"
   ]
  },
  {
   "cell_type": "markdown",
   "metadata": {},
   "source": [
    "### Create Dataframes on Cassandra tables"
   ]
  },
  {
   "cell_type": "code",
   "execution_count": 21,
   "metadata": {
    "collapsed": true
   },
   "outputs": [],
   "source": [
    "stores_df = sqlContext.read\\\n",
    "    .format(\"org.apache.spark.sql.cassandra\")\\\n",
    "    .options(keyspace=\"retail\", table=\"stores\")\\\n",
    "    .load()"
   ]
  },
  {
   "cell_type": "code",
   "execution_count": 22,
   "metadata": {
    "collapsed": false
   },
   "outputs": [],
   "source": [
    "receipts_by_store_date_df = sqlContext.read\\\n",
    "    .format(\"org.apache.spark.sql.cassandra\")\\\n",
    "    .options(keyspace=\"retail\", table=\"receipts_by_store_date\")\\\n",
    "    .load()"
   ]
  },
  {
   "cell_type": "markdown",
   "metadata": {},
   "source": [
    "### Save it"
   ]
  },
  {
   "cell_type": "code",
   "execution_count": 23,
   "metadata": {
    "collapsed": false
   },
   "outputs": [
    {
     "data": {
      "text/plain": [
       "u'87102'"
      ]
     },
     "execution_count": 23,
     "metadata": {},
     "output_type": "execute_result"
    }
   ],
   "source": [
    "receipts_by_store_date_df.take(1)[0].customer.zip\n"
   ]
  },
  {
   "cell_type": "code",
   "execution_count": 24,
   "metadata": {
    "collapsed": false
   },
   "outputs": [
    {
     "name": "stdout",
     "output_type": "stream",
     "text": [
      "+--------+--------------------+-----------+--------------------+-------------+--------------------+------------------+\n",
      "|store_id|        receipt_date|register_id|   receipt_timestamp|   receipt_id|            customer|     receipt_total|\n",
      "+--------+--------------------+-----------+--------------------+-------------+--------------------+------------------+\n",
      "|     145|2015-08-03 00:00:...|          1|2015-08-03 19:43:...|1444884264828|[Dustin,Baldwin,1...|            549.89|\n",
      "|     145|2015-08-03 00:00:...|          2|2015-08-04 00:07:...|1444884156167|[Ethan,Lucas,422 ...|           1279.81|\n",
      "|     145|2015-08-03 00:00:...|          5|2015-08-03 23:34:...|1444884235078|[Drew,Le,456 Sall...|           1299.84|\n",
      "|     145|2015-08-03 00:00:...|          7|2015-08-03 16:58:...|1444884278936|[Kris,Workman,630...|            979.89|\n",
      "|     145|2015-08-03 00:00:...|          7|2015-08-03 20:28:...|1444883394452|[Alex,Ramos,1058 ...|           1539.74|\n",
      "|     145|2015-08-03 00:00:...|          7|2015-08-03 23:08:...|1444884283205|[Wyatt,Chen,1626 ...|            1389.8|\n",
      "|     145|2015-08-03 00:00:...|          9|2015-08-03 23:17:...|1444883379937|[Cathy,Byrd,602 L...|             639.9|\n",
      "|     145|2015-08-03 00:00:...|         10|2015-08-03 17:10:...|1444884238633|[Christina,Benton...|           1579.75|\n",
      "|     145|2015-08-03 00:00:...|         11|2015-08-03 23:26:...|1444884074419|[Abigail,Fowler,1...| 849.7800000000001|\n",
      "|     145|2015-08-03 00:00:...|         12|2015-08-03 15:33:...|1444883423941|[Albert,Romero,11...|           2239.75|\n",
      "|     145|2015-08-03 00:00:...|         12|2015-08-04 02:44:...|1444884221832|[Courtney,Suarez,...|            2389.7|\n",
      "|     145|2015-08-03 00:00:...|         15|2015-08-04 02:04:...|1444884157345|[Savannah,Bryan,9...|           2279.74|\n",
      "|     145|2015-08-03 00:00:...|         16|2015-08-03 16:14:...|1444884150920|[Linda,Wallace,17...|            859.84|\n",
      "|     145|2015-08-03 00:00:...|         16|2015-08-03 18:03:...|1444884176120|[Douglas,Giles,10...|            909.88|\n",
      "|     145|2015-08-03 00:00:...|         16|2015-08-03 18:37:...|1444884070940|[Jonathon,Pitts,1...|           1719.77|\n",
      "|     145|2015-08-03 00:00:...|         16|2015-08-03 19:49:...|1444883998083|[Kenny,Castaneda,...|            119.97|\n",
      "|     145|2015-08-03 00:00:...|         16|2015-08-04 00:55:...|1444884091896|[Deanna,Martin,76...| 489.9200000000001|\n",
      "|     145|2015-08-03 00:00:...|         18|2015-08-04 02:16:...|1444884084603|[Amber,Cabrera,14...|1109.8799999999999|\n",
      "|     145|2015-08-03 00:00:...|         21|2015-08-03 16:11:...|1444884325868|[Douglas,Giles,10...|           1319.81|\n",
      "|     145|2015-08-03 00:00:...|         22|2015-08-03 21:59:...|1444884162991|[Lynn,Higgins,571...|            499.95|\n",
      "+--------+--------------------+-----------+--------------------+-------------+--------------------+------------------+\n",
      "\n",
      "root\n",
      " |-- store_id: integer (nullable = true)\n",
      " |-- receipt_date: timestamp (nullable = true)\n",
      " |-- register_id: integer (nullable = true)\n",
      " |-- receipt_timestamp: timestamp (nullable = true)\n",
      " |-- receipt_id: long (nullable = true)\n",
      " |-- customer: struct (nullable = true)\n",
      " |    |-- first_name: string (nullable = true)\n",
      " |    |-- last_name: string (nullable = true)\n",
      " |    |-- addr1: string (nullable = true)\n",
      " |    |-- city: string (nullable = true)\n",
      " |    |-- state: string (nullable = true)\n",
      " |    |-- zip: string (nullable = true)\n",
      " |-- receipt_total: decimal (nullable = true)\n",
      "\n"
     ]
    }
   ],
   "source": [
    "receipts_by_store_date_df.show()\n",
    "receipts_by_store_date_df.printSchema()\n",
    "\n"
   ]
  },
  {
   "cell_type": "code",
   "execution_count": 25,
   "metadata": {
    "collapsed": false
   },
   "outputs": [
    {
     "data": {
      "text/plain": [
       "[((200, u'66314'), (Decimal('4149.61'), 1)),\n",
       " ((394, u'54908'), (Decimal('3969.6699999999996'), 1)),\n",
       " ((91, u'47375'), (Decimal('3929.65'), 1)),\n",
       " ((165, u'27540'), (Decimal('3889.63'), 1)),\n",
       " ((292, u'59154'), (Decimal('3829.64'), 1, Decimal('1459.82'), 1)),\n",
       " ((131, u'01719'), (Decimal('3819.66'), 1)),\n",
       " ((134, u'79521'), (Decimal('3769.62'), 1)),\n",
       " ((136, u'91611'), (Decimal('3729.6299999999997'), 1)),\n",
       " ((11, u'87679'), (Decimal('3699.62'), 1)),\n",
       " ((90, u'85758'), (Decimal('3689.65'), 1)),\n",
       " ((204, u'44078'), (Decimal('3689.63'), 1)),\n",
       " ((330, u'00169'), (Decimal('3679.6400000000003'), 1)),\n",
       " ((103, u'56889'), (Decimal('3669.67'), 1)),\n",
       " ((114, u'44414'), (Decimal('3669.6'), 1)),\n",
       " ((51, u'89761'), (Decimal('3649.6299999999997'), 1)),\n",
       " ((126, u'24942'), (Decimal('3639.6499999999996'), 1, Decimal('1549.75'), 1)),\n",
       " ((100, u'78472'), (Decimal('3619.7'), 1)),\n",
       " ((199, u'11130'), (Decimal('3619.68'), 1)),\n",
       " ((99, u'25485'), (Decimal('3609.6499999999996'), 1)),\n",
       " ((376, u'16672'), (Decimal('3599.66'), 1)),\n",
       " ((52, u'52840'), (Decimal('3599.6499999999996'), 1)),\n",
       " ((311, u'03305'), (Decimal('3579.68'), 1)),\n",
       " ((9, u'33433'), (Decimal('3579.6499999999996'), 1)),\n",
       " ((77, u'88628'), (Decimal('3569.66'), 1)),\n",
       " ((9, u'51913'), (Decimal('3559.67'), 1)),\n",
       " ((399, u'48204'), (Decimal('3549.68'), 1)),\n",
       " ((289, u'93216'), (Decimal('3549.66'), 1)),\n",
       " ((9, u'48417'), (Decimal('3549.6299999999997'), 1)),\n",
       " ((170, u'06233'), (Decimal('3539.71'), 1)),\n",
       " ((36, u'43558'), (Decimal('3539.64'), 1)),\n",
       " ((392, u'79668'), (Decimal('3529.6499999999996'), 1)),\n",
       " ((239, u'74642'), (Decimal('3509.68'), 1)),\n",
       " ((312, u'89235'), (Decimal('3509.64'), 1)),\n",
       " ((64, u'97017'), (Decimal('3499.7'), 1)),\n",
       " ((291, u'26061'), (Decimal('3499.66'), 1)),\n",
       " ((268, u'94661'), (Decimal('3499.6400000000003'), 1)),\n",
       " ((236, u'50416'), (Decimal('3489.64'), 1)),\n",
       " ((398, u'90547'), (Decimal('3489.5899999999997'), 1)),\n",
       " ((395, u'45958'), (Decimal('3479.6699999999996'), 1)),\n",
       " ((103, u'55739'), (Decimal('3479.66'), 1)),\n",
       " ((199, u'38031'), (Decimal('3479.66'), 1)),\n",
       " ((84, u'31127'), (Decimal('3479.65'), 1)),\n",
       " ((338, u'16521'), (Decimal('3469.69'), 1)),\n",
       " ((187, u'71349'), (Decimal('3469.67'), 1)),\n",
       " ((337, u'40728'), (Decimal('3469.65'), 1)),\n",
       " ((24, u'29242'), (Decimal('3469.6400000000003'), 1, Decimal('879.84'), 1)),\n",
       " ((325, u'62649'), (Decimal('3469.63'), 1)),\n",
       " ((251, u'33246'), (Decimal('3459.7'), 1)),\n",
       " ((65, u'26609'), (Decimal('3459.6800000000003'), 1)),\n",
       " ((351, u'34661'), (Decimal('3459.68'), 1)),\n",
       " ((399, u'18641'), (Decimal('3459.63'), 1)),\n",
       " ((92, u'11642'), (Decimal('3449.6800000000003'), 1)),\n",
       " ((332, u'24309'), (Decimal('3449.67'), 1)),\n",
       " ((73, u'77858'), (Decimal('3439.66'), 1)),\n",
       " ((293, u'34397'), (Decimal('3439.65'), 1)),\n",
       " ((345, u'81989'), (Decimal('3439.6499999999996'), 1)),\n",
       " ((54, u'38780'), (Decimal('3429.6899999999996'), 1)),\n",
       " ((56, u'21576'), (Decimal('3429.65'), 1)),\n",
       " ((318, u'61487'), (Decimal('3409.61'), 1)),\n",
       " ((281, u'21988'), (Decimal('3399.6899999999996'), 1)),\n",
       " ((145, u'07291'), (Decimal('3399.66'), 1)),\n",
       " ((64, u'37970'), (Decimal('3399.66'), 1)),\n",
       " ((87, u'72300'), (Decimal('3399.6'), 1, Decimal('989.8299999999999'), 1)),\n",
       " ((277, u'13486'), (Decimal('3389.7'), 1)),\n",
       " ((230, u'96846'), (Decimal('3389.6499999999996'), 1)),\n",
       " ((118, u'88763'), (Decimal('3379.67'), 1)),\n",
       " ((23, u'28391'), (Decimal('3379.66'), 1)),\n",
       " ((374, u'63750'), (Decimal('3379.66'), 1)),\n",
       " ((195, u'73387'), (Decimal('3379.66'), 1)),\n",
       " ((386, u'43541'), (Decimal('3379.66'), 1)),\n",
       " ((381, u'39342'), (Decimal('3379.64'), 1)),\n",
       " ((69, u'37669'), (Decimal('3379.63'), 1)),\n",
       " ((261, u'79734'), (Decimal('3369.69'), 1)),\n",
       " ((135, u'56241'), (Decimal('3369.69'), 1)),\n",
       " ((378, u'28776'), (Decimal('3359.6899999999996'), 1)),\n",
       " ((199, u'20180'), (Decimal('3359.6899999999996'), 1)),\n",
       " ((345, u'47526'), (Decimal('3359.6699999999996'), 1)),\n",
       " ((14, u'38586'), (Decimal('3359.66'), 1)),\n",
       " ((206, u'59394'), (Decimal('3359.6499999999996'), 1)),\n",
       " ((92, u'18854'), (Decimal('3359.6499999999996'), 1)),\n",
       " ((37, u'69633'), (Decimal('3359.6299999999997'), 1)),\n",
       " ((77, u'59381'), (Decimal('3349.6899999999996'), 1)),\n",
       " ((258, u'65716'), (Decimal('3349.6800000000003'), 1)),\n",
       " ((82, u'29281'), (Decimal('3349.68'), 1)),\n",
       " ((298, u'93967'), (Decimal('3349.6699999999996'), 1)),\n",
       " ((37, u'74017'), (Decimal('3349.66'), 1)),\n",
       " ((233, u'10379'), (Decimal('3339.7'), 1)),\n",
       " ((7, u'75682'), (Decimal('3339.69'), 1)),\n",
       " ((122, u'68653'), (Decimal('3339.66'), 1)),\n",
       " ((317, u'79859'), (Decimal('3339.62'), 1)),\n",
       " ((312, u'93216'), (Decimal('3329.7200000000003'), 1)),\n",
       " ((293, u'44783'), (Decimal('3329.7'), 1)),\n",
       " ((25, u'04393'), (Decimal('3329.67'), 1)),\n",
       " ((67, u'88612'), (Decimal('3329.65'), 1)),\n",
       " ((197, u'59767'), (Decimal('3329.6499999999996'), 1)),\n",
       " ((6, u'59154'), (Decimal('3329.6499999999996'), 1)),\n",
       " ((336, u'71038'), (Decimal('3329.62'), 1)),\n",
       " ((217, u'65685'), (Decimal('3319.72'), 1)),\n",
       " ((305, u'86473'), (Decimal('3319.69'), 1)),\n",
       " ((130, u'77948'), (Decimal('3319.68'), 1))]"
      ]
     },
     "execution_count": 25,
     "metadata": {},
     "output_type": "execute_result"
    }
   ],
   "source": [
    "receipts_by_store_date_df.rdd.map( lambda (store_id, receipt_date, register_id, receipt_timestamp, receipt_id, customer, receipt_total) : ((store_id, customer[5]),(receipt_total, 1))).reduceByKey(lambda x, y: x+y).sortBy(lambda (x,y): -y[0]).take(100)\n",
    "\n",
    "\n"
   ]
  }
 ],
 "metadata": {
  "kernelspec": {
   "display_name": "Python 2",
   "language": "python",
   "name": "python2"
  },
  "language_info": {
   "codemirror_mode": {
    "name": "ipython",
    "version": 2
   },
   "file_extension": ".py",
   "mimetype": "text/x-python",
   "name": "python",
   "nbconvert_exporter": "python",
   "pygments_lexer": "ipython2",
   "version": "2.7.6"
  }
 },
 "nbformat": 4,
 "nbformat_minor": 0
}
